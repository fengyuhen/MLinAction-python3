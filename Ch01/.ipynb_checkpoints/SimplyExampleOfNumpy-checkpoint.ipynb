{
 "cells": [
  {
   "cell_type": "markdown",
   "metadata": {},
   "source": [
    "# Introduction"
   ]
  },
  {
   "cell_type": "markdown",
   "metadata": {},
   "source": [
    "## 这章主要介绍了机器学习基础，Python语言，以及简单的Python Numpy对矩阵操作的简单用法"
   ]
  },
  {
   "cell_type": "markdown",
   "metadata": {},
   "source": [
    "## Notice：在非shell中，Python大部分对矩阵的操作，在numpy中集成"
   ]
  },
  {
   "cell_type": "code",
   "execution_count": 8,
   "metadata": {
    "collapsed": true
   },
   "outputs": [],
   "source": [
    "import numpy as np"
   ]
  },
  {
   "cell_type": "code",
   "execution_count": 9,
   "metadata": {},
   "outputs": [
    {
     "data": {
      "text/plain": [
       "array([[ 0.59981665,  0.59570799,  0.84806026,  0.18630046],\n",
       "       [ 0.71281935,  0.91476013,  0.45002815,  0.74761229],\n",
       "       [ 0.62743974,  0.42695824,  0.96870338,  0.86602446],\n",
       "       [ 0.95142909,  0.06029974,  0.78996856,  0.19470127]])"
      ]
     },
     "execution_count": 9,
     "metadata": {},
     "output_type": "execute_result"
    }
   ],
   "source": [
    "a = np.random.rand(4, 4)  #生成随机4*4的数组\n",
    "a "
   ]
  },
  {
   "cell_type": "code",
   "execution_count": 14,
   "metadata": {},
   "outputs": [
    {
     "data": {
      "text/plain": [
       "numpy.ndarray"
      ]
     },
     "execution_count": 14,
     "metadata": {},
     "output_type": "execute_result"
    }
   ],
   "source": [
    "type(a)"
   ]
  },
  {
   "cell_type": "code",
   "execution_count": 15,
   "metadata": {},
   "outputs": [
    {
     "data": {
      "text/plain": [
       "numpy.matrixlib.defmatrix.matrix"
      ]
     },
     "execution_count": 15,
     "metadata": {},
     "output_type": "execute_result"
    }
   ],
   "source": [
    "randmat = np.mat(a)  #将数组转化为矩阵\n",
    "type(randmat)"
   ]
  },
  {
   "cell_type": "code",
   "execution_count": 17,
   "metadata": {},
   "outputs": [
    {
     "data": {
      "text/plain": [
       "matrix([[-0.84098308,  0.87588908, -0.91950731,  1.53140198],\n",
       "        [ 1.15682664,  0.71053807, -0.67931536, -0.81365991],\n",
       "        [ 1.26321824, -1.19617806,  0.86698117, -0.47194154],\n",
       "        [-1.37401919,  0.35311246,  1.18602554, -0.180471  ]])"
      ]
     },
     "execution_count": 17,
     "metadata": {},
     "output_type": "execute_result"
    }
   ],
   "source": [
    "invRandMat = randmat.I #对矩阵进行取逆矩阵\n",
    "invRandMat"
   ]
  },
  {
   "cell_type": "code",
   "execution_count": 18,
   "metadata": {},
   "outputs": [
    {
     "data": {
      "text/plain": [
       "matrix([[  1.00000000e+00,   3.24431333e-17,   5.73736820e-17,\n",
       "           1.80284747e-16],\n",
       "        [ -1.35898114e-16,   1.00000000e+00,   1.30071019e-16,\n",
       "           1.29223010e-16],\n",
       "        [  3.93682347e-17,  -3.30893986e-17,   1.00000000e+00,\n",
       "          -4.85573295e-18],\n",
       "        [ -5.16339824e-17,   7.54253126e-17,  -1.24612266e-16,\n",
       "           1.00000000e+00]])"
      ]
     },
     "execution_count": 18,
     "metadata": {},
     "output_type": "execute_result"
    }
   ],
   "source": [
    "randmat * invRandMat # 矩阵乘以它的逆阵"
   ]
  },
  {
   "cell_type": "code",
   "execution_count": 23,
   "metadata": {},
   "outputs": [
    {
     "data": {
      "text/plain": [
       "matrix([[ -2.22044605e-16,   3.24431333e-17,   5.73736820e-17,\n",
       "           1.80284747e-16],\n",
       "        [ -1.35898114e-16,  -1.11022302e-16,   1.30071019e-16,\n",
       "           1.29223010e-16],\n",
       "        [  3.93682347e-17,  -3.30893986e-17,   0.00000000e+00,\n",
       "          -4.85573295e-18],\n",
       "        [ -5.16339824e-17,   7.54253126e-17,  -1.24612266e-16,\n",
       "           2.22044605e-16]])"
      ]
     },
     "execution_count": 23,
     "metadata": {},
     "output_type": "execute_result"
    }
   ],
   "source": [
    "myEye = randmat * invRandMat -np.eye(4)  #np.eye 生成单位矩阵\n",
    "myEye"
   ]
  }
 ],
 "metadata": {
  "kernelspec": {
   "display_name": "Python 3",
   "language": "python",
   "name": "python3"
  },
  "language_info": {
   "codemirror_mode": {
    "name": "ipython",
    "version": 3
   },
   "file_extension": ".py",
   "mimetype": "text/x-python",
   "name": "python",
   "nbconvert_exporter": "python",
   "pygments_lexer": "ipython3",
   "version": "3.5.4"
  }
 },
 "nbformat": 4,
 "nbformat_minor": 2
}
